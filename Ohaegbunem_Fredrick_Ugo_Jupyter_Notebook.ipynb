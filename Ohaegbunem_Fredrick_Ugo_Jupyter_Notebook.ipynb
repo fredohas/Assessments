{
 "cells": [
  {
   "cell_type": "markdown",
   "metadata": {},
   "source": [
    "<center>\n",
    "    <img src=\"https://cf-courses-data.s3.us.cloud-object-storage.appdomain.cloud/IBMDeveloperSkillsNetwork-DS0105EN-SkillsNetwork/labs/Module2/images/SN_web_lightmode.png\" width=\"300\" alt=\"cognitiveclass.ai logo\">\n",
    "</center>\n"
   ]
  },
  {
   "cell_type": "markdown",
   "metadata": {},
   "source": [
    "#### Add your code below following the instructions given in the course\n"
   ]
  },
  {
   "cell_type": "markdown",
   "metadata": {},
   "source": [
    "# My Jupyter Notebook on IBM Watson Studio"
   ]
  },
  {
   "cell_type": "markdown",
   "metadata": {},
   "source": [
    "**Ohaegbunem, Fredrick Ugo** <br> Statistician/Data Scientist\n",
    "  "
   ]
  },
  {
   "cell_type": "markdown",
   "metadata": {},
   "source": [
    "I am interested in data science because i love to play with data and also seek insights from data, and getting to know that i can actually work with data as an occupation led me to pursue the career as a data scientist."
   ]
  },
  {
   "cell_type": "markdown",
   "metadata": {},
   "source": [
    "### The following code will calculate and print out the result of 20 + 7"
   ]
  },
  {
   "cell_type": "code",
   "execution_count": 6,
   "metadata": {},
   "outputs": [
    {
     "name": "stdout",
     "output_type": "stream",
     "text": [
      "27\n"
     ]
    }
   ],
   "source": [
    "print(20+7)"
   ]
  },
  {
   "cell_type": "markdown",
   "metadata": {
    "tags": []
   },
   "source": [
    "#### Here is a summary of all that we did in this course<br> \n",
    ">this is just a rough sketch\n",
    "<hr>\n",
    "<ol>\n",
    "<li>Week one</li>\n",
    "    \n",
    "-   Languages of Data Science\n",
    "-   Data Science Tools\n",
    "-   Packages, APIs, Data Sets and Models\n",
    "-   Module 1 Assessment\n",
    "    \n",
    "<li>Week Two</li>\n",
    "    \n",
    "-   Jupyter Notebook and JupyterLab\n",
    "-   RStudio\n",
    "-   GitHub\n",
    "-   Module 2 Assessment\n",
    "    \n",
    "<li>Week Three</li>\n",
    "\n",
    "-   Watson Studio\n",
    "-   Other IBM Tools\n",
    "-   Module 2 Assessment\n",
    "    \n",
    "<li>Week Four</li>\n",
    "    \n",
    "-   Create and Share your Jupyter Notebook\n",
    "-   Final Exam\n",
    "-   Digital Badge\n",
    "    "
   ]
  },
  {
   "cell_type": "code",
   "execution_count": null,
   "metadata": {},
   "outputs": [],
   "source": []
  }
 ],
 "metadata": {
  "kernelspec": {
   "display_name": "Python",
   "language": "python",
   "name": "conda-env-python-py"
  },
  "language_info": {
   "codemirror_mode": {
    "name": "ipython",
    "version": 3
   },
   "file_extension": ".py",
   "mimetype": "text/x-python",
   "name": "python",
   "nbconvert_exporter": "python",
   "pygments_lexer": "ipython3",
   "version": "3.7.12"
  }
 },
 "nbformat": 4,
 "nbformat_minor": 4
}
